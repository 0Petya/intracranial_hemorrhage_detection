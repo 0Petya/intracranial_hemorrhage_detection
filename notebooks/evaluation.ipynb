{
 "cells": [
  {
   "cell_type": "markdown",
   "metadata": {},
   "source": [
    "In this notebook, we analyze our best model and evaluate it on the hold-out test set."
   ]
  },
  {
   "cell_type": "code",
   "execution_count": 1,
   "metadata": {},
   "outputs": [],
   "source": [
    "import sys\n",
    "sys.path.insert(0, \"../src/data/\")\n",
    "\n",
    "import matplotlib.pyplot as plt\n",
    "import multiprocessing\n",
    "import numpy as np\n",
    "import seaborn as sns\n",
    "\n",
    "from data_generator import DataGenerator\n",
    "from sklearn.metrics import classification_report, confusion_matrix, fbeta_score, precision_recall_curve\n",
    "from tensorflow.keras.models import load_model"
   ]
  },
  {
   "cell_type": "code",
   "execution_count": 2,
   "metadata": {},
   "outputs": [],
   "source": [
    "cores = multiprocessing.cpu_count()"
   ]
  },
  {
   "cell_type": "code",
   "execution_count": 3,
   "metadata": {},
   "outputs": [],
   "source": [
    "model = load_model(\"../models/best_model\")"
   ]
  },
  {
   "cell_type": "code",
   "execution_count": 4,
   "metadata": {},
   "outputs": [],
   "source": [
    "ids_train = np.load(\"../data/processed/any_hemo_split/X_any_hemo_ids_train.npy\", allow_pickle=True)\n",
    "y_train = np.load(\"../data/processed/any_hemo_split/y_any_hemo_train.npy\", allow_pickle=True)\n",
    "ids_test = np.load(\"../data/processed/any_hemo_split/X_any_hemo_ids_test.npy\", allow_pickle=True)\n",
    "y_test = np.load(\"../data/processed/any_hemo_split/y_any_hemo_test.npy\", allow_pickle=True)\n",
    "\n",
    "train_gen = DataGenerator(ids_train, y_train, path=\"../data/processed/images\", batch_size=16)\n",
    "test_gen = DataGenerator(ids_test, y_test, path=\"../data/processed/images\", batch_size=16)"
   ]
  },
  {
   "cell_type": "markdown",
   "metadata": {},
   "source": [
    "First we're going to want to plot the specificity-sensitivity curve to determine what the best threshold point might be."
   ]
  },
  {
   "cell_type": "code",
   "execution_count": 5,
   "metadata": {},
   "outputs": [
    {
     "name": "stdout",
     "output_type": "stream",
     "text": [
      "37627/37627 [==============================] - 1834s 49ms/step\n"
     ]
    }
   ],
   "source": [
    "train_prob = model.predict(train_gen, verbose=1, workers=cores)\n",
    "precisions, recalls, thresholds = precision_recall_curve(y_train, train_prob)"
   ]
  },
  {
   "cell_type": "code",
   "execution_count": 10,
   "metadata": {},
   "outputs": [
    {
     "data": {
      "image/png": "[encoded data removed]",
      "text/plain": [
       "<Figure size 432x288 with 1 Axes>"
      ]
     },
     "metadata": {
      "needs_background": "light"
     },
     "output_type": "display_data"
    }
   ],
   "source": [
    "plt.plot(recalls, precisions)\n",
    "plt.title(\"Best Model Specificity-Sensitivity Curve\")\n",
    "plt.xlabel(\"Sensitivity\")\n",
    "plt.ylabel(\"Specificity\")\n",
    "plt.savefig(\"../models/best_model_precision_recall.png\")"
   ]
  },
  {
   "cell_type": "markdown",
   "metadata": {},
   "source": [
    "Looks like it might be not too far from $0.5$, but let's calculate what yields the best F2 score."
   ]
  },
  {
   "cell_type": "code",
   "execution_count": 7,
   "metadata": {},
   "outputs": [
    {
     "data": {
      "text/plain": [
       "'Best threshold: 0.420054167509079 with F2 score of: 0.662600902514359'"
      ]
     },
     "execution_count": 7,
     "metadata": {},
     "output_type": "execute_result"
    }
   ],
   "source": [
    "f2s = (5 * precisions * recalls) / ((4 * precisions) + recalls)\n",
    "threshold = thresholds[np.argmax(f2s)]\n",
    "f\"Best threshold: {threshold} with F2 score of: {f2s[np.argmax(f2s)]}\""
   ]
  },
  {
   "cell_type": "markdown",
   "metadata": {},
   "source": [
    "Now we can finally test!"
   ]
  },
  {
   "cell_type": "code",
   "execution_count": 8,
   "metadata": {},
   "outputs": [
    {
     "name": "stdout",
     "output_type": "stream",
     "text": [
      "9407/9407 [==============================] - 459s 49ms/step\n",
      "F2 score:  0.6484093169638218\n",
      "              precision    recall  f1-score   support\n",
      "\n",
      "           0       0.96      0.76      0.85    128942\n",
      "           1       0.36      0.81      0.50     21565\n",
      "\n",
      "    accuracy                           0.77    150507\n",
      "   macro avg       0.66      0.78      0.67    150507\n",
      "weighted avg       0.87      0.77      0.80    150507\n",
      "\n"
     ]
    }
   ],
   "source": [
    "y_pred = model.predict(test_gen, verbose=1, workers=cores) > threshold\n",
    "\n",
    "print(\"F2 score: \", fbeta_score(y_test, y_pred, 2))\n",
    "print(classification_report(y_test, y_pred))"
   ]
  },
  {
   "cell_type": "code",
   "execution_count": 9,
   "metadata": {},
   "outputs": [
    {
     "data": {
      "image/png": "[encoded data removed]",
      "text/plain": [
       "<Figure size 432x288 with 2 Axes>"
      ]
     },
     "metadata": {
      "needs_background": "light"
     },
     "output_type": "display_data"
    }
   ],
   "source": [
    "heatmap = sns.heatmap(confusion_matrix(y_test, y_pred), annot=True, fmt='d')\n",
    "plt.savefig(\"../models/best_model_confusion_matrix.png\")"
   ]
  }
 ],
 "metadata": {
  "kernelspec": {
   "display_name": "Python 3",
   "language": "python",
   "name": "python3"
  },
  "language_info": {
   "codemirror_mode": {
    "name": "ipython",
    "version": 3
   },
   "file_extension": ".py",
   "mimetype": "text/x-python",
   "name": "python",
   "nbconvert_exporter": "python",
   "pygments_lexer": "ipython3",
   "version": "3.7.7"
  }
 },
 "nbformat": 4,
 "nbformat_minor": 4
}
